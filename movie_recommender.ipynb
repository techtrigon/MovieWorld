{
 "cells": [
  {
   "cell_type": "code",
   "execution_count": 1,
   "metadata": {},
   "outputs": [],
   "source": [
    "import pandas as pd, numpy as np, difflib,spacy\n",
    "from sklearn.feature_extraction.text import (\n",
    "    TfidfVectorizer,\n",
    "    HashingVectorizer,\n",
    ")\n",
    "from sklearn.metrics.pairwise import linear_kernel, cosine_similarity\n",
    "from collections import Counter\n",
    "from ast import literal_eval\n",
    "import chunkdot.cosine_similarity_top_k as cstk\n",
    "\n",
    "from IPython.core.interactiveshell import InteractiveShell\n",
    "InteractiveShell.ast_node_interactivity = \"all\"\n",
    "\n",
    "pd.set_option('display.max_columns', 200)\n"
   ]
  },
  {
   "cell_type": "code",
   "execution_count": 72,
   "metadata": {},
   "outputs": [
    {
     "data": {
      "text/html": [
       "<div>\n",
       "<style scoped>\n",
       "    .dataframe tbody tr th:only-of-type {\n",
       "        vertical-align: middle;\n",
       "    }\n",
       "\n",
       "    .dataframe tbody tr th {\n",
       "        vertical-align: top;\n",
       "    }\n",
       "\n",
       "    .dataframe thead th {\n",
       "        text-align: right;\n",
       "    }\n",
       "</style>\n",
       "<table border=\"1\" class=\"dataframe\">\n",
       "  <thead>\n",
       "    <tr style=\"text-align: right;\">\n",
       "      <th></th>\n",
       "      <th>id</th>\n",
       "      <th>url</th>\n",
       "      <th>Name</th>\n",
       "      <th>PosterLink</th>\n",
       "      <th>Genres</th>\n",
       "      <th>Actors</th>\n",
       "      <th>Director</th>\n",
       "      <th>Description</th>\n",
       "      <th>DatePublished</th>\n",
       "      <th>Keywords</th>\n",
       "      <th>RatingCount</th>\n",
       "      <th>BestRating</th>\n",
       "      <th>WorstRating</th>\n",
       "      <th>RatingValue</th>\n",
       "      <th>ReviewAurthor</th>\n",
       "      <th>ReviewDate</th>\n",
       "      <th>ReviewBody</th>\n",
       "      <th>duration</th>\n",
       "    </tr>\n",
       "  </thead>\n",
       "  <tbody>\n",
       "    <tr>\n",
       "      <th>0</th>\n",
       "      <td>0</td>\n",
       "      <td>https://www.imdb.com/title/tt2221420/</td>\n",
       "      <td>Sallie Gardner at a Gallop</td>\n",
       "      <td>https://m.media-amazon.com/images/M/MV5BMjk0Mz...</td>\n",
       "      <td>Documentary,Short</td>\n",
       "      <td>Gilbert Domm,Sallie Gardner</td>\n",
       "      <td>Eadweard Muybridge</td>\n",
       "      <td>Sallie Gardner at a Gallop is a short starring...</td>\n",
       "      <td>1878-06-15</td>\n",
       "      <td>19th century,1870s,nature,horse,horse riding</td>\n",
       "      <td>2465</td>\n",
       "      <td>10.0</td>\n",
       "      <td>1.0</td>\n",
       "      <td>7.4</td>\n",
       "      <td>Cineanalyst</td>\n",
       "      <td>2013-11-12</td>\n",
       "      <td>Sometimes ascribed as \"The Father of the Motio...</td>\n",
       "      <td>1M</td>\n",
       "    </tr>\n",
       "    <tr>\n",
       "      <th>1</th>\n",
       "      <td>1</td>\n",
       "      <td>https://www.imdb.com/title/tt5459794/</td>\n",
       "      <td>Buffalo Running</td>\n",
       "      <td>https://m.media-amazon.com/images/M/MV5BMTFkM2...</td>\n",
       "      <td>Documentary,Short</td>\n",
       "      <td>NaN</td>\n",
       "      <td>Eadweard Muybridge</td>\n",
       "      <td>NaN</td>\n",
       "      <td>1883-11-19</td>\n",
       "      <td>1880s,19th century,buffalo running,american bi...</td>\n",
       "      <td>766</td>\n",
       "      <td>10.0</td>\n",
       "      <td>1.0</td>\n",
       "      <td>6.4</td>\n",
       "      <td>framptonhollis</td>\n",
       "      <td>2017-08-30</td>\n",
       "      <td>It's pretty powerful to see the earliest works...</td>\n",
       "      <td>1M</td>\n",
       "    </tr>\n",
       "  </tbody>\n",
       "</table>\n",
       "</div>"
      ],
      "text/plain": [
       "   id                                    url                        Name  \\\n",
       "0   0  https://www.imdb.com/title/tt2221420/  Sallie Gardner at a Gallop   \n",
       "1   1  https://www.imdb.com/title/tt5459794/             Buffalo Running   \n",
       "\n",
       "                                          PosterLink             Genres  \\\n",
       "0  https://m.media-amazon.com/images/M/MV5BMjk0Mz...  Documentary,Short   \n",
       "1  https://m.media-amazon.com/images/M/MV5BMTFkM2...  Documentary,Short   \n",
       "\n",
       "                        Actors            Director  \\\n",
       "0  Gilbert Domm,Sallie Gardner  Eadweard Muybridge   \n",
       "1                          NaN  Eadweard Muybridge   \n",
       "\n",
       "                                         Description DatePublished  \\\n",
       "0  Sallie Gardner at a Gallop is a short starring...    1878-06-15   \n",
       "1                                                NaN    1883-11-19   \n",
       "\n",
       "                                            Keywords  RatingCount  BestRating  \\\n",
       "0       19th century,1870s,nature,horse,horse riding         2465        10.0   \n",
       "1  1880s,19th century,buffalo running,american bi...          766        10.0   \n",
       "\n",
       "   WorstRating  RatingValue   ReviewAurthor  ReviewDate  \\\n",
       "0          1.0          7.4     Cineanalyst  2013-11-12   \n",
       "1          1.0          6.4  framptonhollis  2017-08-30   \n",
       "\n",
       "                                          ReviewBody duration  \n",
       "0  Sometimes ascribed as \"The Father of the Motio...       1M  \n",
       "1  It's pretty powerful to see the earliest works...       1M  "
      ]
     },
     "execution_count": 72,
     "metadata": {},
     "output_type": "execute_result"
    },
    {
     "data": {
      "text/plain": [
       "Index(['id', 'url', 'Name', 'PosterLink', 'Genres', 'Actors', 'Director',\n",
       "       'Description', 'DatePublished', 'Keywords', 'RatingCount', 'BestRating',\n",
       "       'WorstRating', 'RatingValue', 'ReviewAurthor', 'ReviewDate',\n",
       "       'ReviewBody', 'duration'],\n",
       "      dtype='object')"
      ]
     },
     "execution_count": 72,
     "metadata": {},
     "output_type": "execute_result"
    },
    {
     "data": {
      "text/plain": [
       "(48513, 18)"
      ]
     },
     "execution_count": 72,
     "metadata": {},
     "output_type": "execute_result"
    }
   ],
   "source": [
    "md=pd.read_csv('./movies_final.csv')\n",
    "md.head(2)\n",
    "md.columns\n",
    "md.shape\n"
   ]
  },
  {
   "cell_type": "code",
   "execution_count": 73,
   "metadata": {},
   "outputs": [
    {
     "name": "stdout",
     "output_type": "stream",
     "text": [
      "25\n",
      "1287\n",
      "635\n",
      "740\n",
      "2141\n",
      "0\n"
     ]
    }
   ],
   "source": [
    "print(md['Genres'].isna().sum())\n",
    "print(md['Description'].isna().sum())\n",
    "print(md['Director'].isna().sum())\n",
    "print(md['Actors'].isna().sum())\n",
    "print(md['Keywords'].isna().sum())\n",
    "print(md['Name'].isna().sum())\n"
   ]
  },
  {
   "cell_type": "code",
   "execution_count": 74,
   "metadata": {},
   "outputs": [
    {
     "data": {
      "text/html": [
       "<div>\n",
       "<style scoped>\n",
       "    .dataframe tbody tr th:only-of-type {\n",
       "        vertical-align: middle;\n",
       "    }\n",
       "\n",
       "    .dataframe tbody tr th {\n",
       "        vertical-align: top;\n",
       "    }\n",
       "\n",
       "    .dataframe thead th {\n",
       "        text-align: right;\n",
       "    }\n",
       "</style>\n",
       "<table border=\"1\" class=\"dataframe\">\n",
       "  <thead>\n",
       "    <tr style=\"text-align: right;\">\n",
       "      <th></th>\n",
       "      <th>url</th>\n",
       "      <th>Name</th>\n",
       "      <th>Poster</th>\n",
       "      <th>Genres</th>\n",
       "      <th>Actors</th>\n",
       "      <th>Director</th>\n",
       "      <th>Description</th>\n",
       "      <th>DatePublished</th>\n",
       "      <th>Keywords</th>\n",
       "      <th>RatingCount</th>\n",
       "      <th>RatingValue</th>\n",
       "      <th>ReviewAuthor</th>\n",
       "      <th>ReviewDate</th>\n",
       "      <th>ReviewBody</th>\n",
       "    </tr>\n",
       "  </thead>\n",
       "  <tbody>\n",
       "    <tr>\n",
       "      <th>0</th>\n",
       "      <td>https://www.imdb.com/title/tt2221420/</td>\n",
       "      <td>Sallie Gardner at a Gallop</td>\n",
       "      <td>https://m.media-amazon.com/images/M/MV5BMjk0Mz...</td>\n",
       "      <td>Documentary,Short</td>\n",
       "      <td>Gilbert Domm,Sallie Gardner</td>\n",
       "      <td>Eadweard Muybridge</td>\n",
       "      <td>Sallie Gardner at a Gallop is a short starring...</td>\n",
       "      <td>1878-06-15</td>\n",
       "      <td>19th century,1870s,nature,horse,horse riding</td>\n",
       "      <td>2465</td>\n",
       "      <td>7.4</td>\n",
       "      <td>Cineanalyst</td>\n",
       "      <td>2013-11-12</td>\n",
       "      <td>Sometimes ascribed as \"The Father of the Motio...</td>\n",
       "    </tr>\n",
       "    <tr>\n",
       "      <th>1</th>\n",
       "      <td>https://www.imdb.com/title/tt5459794/</td>\n",
       "      <td>Buffalo Running</td>\n",
       "      <td>https://m.media-amazon.com/images/M/MV5BMTFkM2...</td>\n",
       "      <td>Documentary,Short</td>\n",
       "      <td>NaN</td>\n",
       "      <td>Eadweard Muybridge</td>\n",
       "      <td>NaN</td>\n",
       "      <td>1883-11-19</td>\n",
       "      <td>1880s,19th century,buffalo running,american bi...</td>\n",
       "      <td>766</td>\n",
       "      <td>6.4</td>\n",
       "      <td>framptonhollis</td>\n",
       "      <td>2017-08-30</td>\n",
       "      <td>It's pretty powerful to see the earliest works...</td>\n",
       "    </tr>\n",
       "  </tbody>\n",
       "</table>\n",
       "</div>"
      ],
      "text/plain": [
       "                                     url                        Name  \\\n",
       "0  https://www.imdb.com/title/tt2221420/  Sallie Gardner at a Gallop   \n",
       "1  https://www.imdb.com/title/tt5459794/             Buffalo Running   \n",
       "\n",
       "                                              Poster             Genres  \\\n",
       "0  https://m.media-amazon.com/images/M/MV5BMjk0Mz...  Documentary,Short   \n",
       "1  https://m.media-amazon.com/images/M/MV5BMTFkM2...  Documentary,Short   \n",
       "\n",
       "                        Actors            Director  \\\n",
       "0  Gilbert Domm,Sallie Gardner  Eadweard Muybridge   \n",
       "1                          NaN  Eadweard Muybridge   \n",
       "\n",
       "                                         Description DatePublished  \\\n",
       "0  Sallie Gardner at a Gallop is a short starring...    1878-06-15   \n",
       "1                                                NaN    1883-11-19   \n",
       "\n",
       "                                            Keywords  RatingCount  \\\n",
       "0       19th century,1870s,nature,horse,horse riding         2465   \n",
       "1  1880s,19th century,buffalo running,american bi...          766   \n",
       "\n",
       "   RatingValue    ReviewAuthor  ReviewDate  \\\n",
       "0          7.4     Cineanalyst  2013-11-12   \n",
       "1          6.4  framptonhollis  2017-08-30   \n",
       "\n",
       "                                          ReviewBody  \n",
       "0  Sometimes ascribed as \"The Father of the Motio...  \n",
       "1  It's pretty powerful to see the earliest works...  "
      ]
     },
     "execution_count": 74,
     "metadata": {},
     "output_type": "execute_result"
    }
   ],
   "source": [
    "md.drop(['duration','id','BestRating','WorstRating'],axis=1,inplace=True)\n",
    "md.rename({'PosterLink':'Poster','ReviewAurthor':'ReviewAuthor'},axis=1,inplace=True)\n",
    "md.head(2)\n"
   ]
  },
  {
   "cell_type": "code",
   "execution_count": 75,
   "metadata": {},
   "outputs": [],
   "source": [
    "feats=['Genres','Name','Keywords','Actors','Director','Description']\n",
    "\n",
    "for i in feats:\n",
    "  md[i].fillna('',inplace=True)\n"
   ]
  },
  {
   "cell_type": "code",
   "execution_count": 76,
   "metadata": {},
   "outputs": [],
   "source": [
    "nlp=spacy.load('en_core_web_sm')\n",
    "lemma_text_list=[]\n",
    "for doc in nlp.pipe(md[\"Description\"]):\n",
    "    lemma_text_list.append(\" \".join(token.lemma_ for token in doc))\n",
    "md[\"DescriptionLemma\"] = lemma_text_list\n"
   ]
  },
  {
   "cell_type": "code",
   "execution_count": 77,
   "metadata": {},
   "outputs": [
    {
     "data": {
      "text/plain": [
       "0"
      ]
     },
     "execution_count": 77,
     "metadata": {},
     "output_type": "execute_result"
    },
    {
     "data": {
      "text/plain": [
       "0"
      ]
     },
     "execution_count": 77,
     "metadata": {},
     "output_type": "execute_result"
    },
    {
     "data": {
      "text/plain": [
       "array([ 7.4,  6.4,  5.2,  6.7,  7.3,  5.5,  5.8,  5. ,  4.8,  4.4,  5.3,\n",
       "        4.7,  4.9,  5.1,  6.5,  3.9,  6.2,  5.7,  5.4,  5.9,  4.3,  4.1,\n",
       "        5.6,  4.5,  6.9,  7.1,  6. ,  6.3,  6.1,  7.5,  7. ,  8.2,  6.8,\n",
       "        6.6,  2.9,  7.6,  7.2,  7.7,  7.8,  8.1,  8.3,  7.9,  8. , -1. ,\n",
       "        8.4,  8.5,  3.7,  4.6,  3.6,  3.3,  4. ,  3.8,  2.7,  3.4,  2.5,\n",
       "        8.6,  2. ,  2.2,  3.2,  1.6,  3. ,  4.2,  3.1,  2.1,  2.4,  2.3,\n",
       "        9. ,  2.8,  3.5,  8.8,  1.7,  1.8,  8.9,  1.9,  2.6,  9.3,  9.2,\n",
       "        8.7,  1.4,  1.3,  9.1,  9.4,  1.5,  1.1,  9.5])"
      ]
     },
     "execution_count": 77,
     "metadata": {},
     "output_type": "execute_result"
    },
    {
     "data": {
      "text/plain": [
       "array([ 2465,   766,  1140, ..., 18223, 65466, 35822], dtype=int64)"
      ]
     },
     "execution_count": 77,
     "metadata": {},
     "output_type": "execute_result"
    }
   ],
   "source": [
    "md['RatingValue'].isna().sum()\n",
    "md['RatingCount'].isna().sum()\n",
    "md['RatingValue'].unique()\n",
    "md['RatingCount'].unique()\n"
   ]
  },
  {
   "cell_type": "code",
   "execution_count": 78,
   "metadata": {},
   "outputs": [
    {
     "data": {
      "text/plain": [
       "(48477, 16)"
      ]
     },
     "execution_count": 78,
     "metadata": {},
     "output_type": "execute_result"
    }
   ],
   "source": [
    "md=md[md['RatingCount'].astype('int32')>0].reset_index(drop=True)\n",
    "\n",
    "def weighted_rating(x):\n",
    "    v,avg = x[\"RatingCount\"],x[\"RatingValue\"]\n",
    "    return (v * avg +  md[\"RatingValue\"].mean()) / (1 + v)\n",
    "\n",
    "md[\"votewt\"] = md.apply(weighted_rating, axis=1)\n",
    "md.sort_values(\"votewt\", ascending=False,inplace=True,kind='mergesort',ignore_index=True)\n",
    "md.shape\n"
   ]
  },
  {
   "cell_type": "code",
   "execution_count": 79,
   "metadata": {},
   "outputs": [],
   "source": [
    "md['Genres']=md['Genres'].apply(lambda x:[i for i in x.split(',')])\n",
    "md['Actors']=md['Actors'].apply(lambda x:[i for i in x.split(',')])\n",
    "md['Keywords']=md['Keywords'].apply(lambda x:[i for i in x.split(',')])\n",
    "\n",
    "md.to_feather('./movies_final.feather', compression=\"lz4\",compression_level=9,)\n"
   ]
  },
  {
   "cell_type": "code",
   "execution_count": 2,
   "metadata": {},
   "outputs": [],
   "source": [
    "md=pd.read_feather('./movies_final.feather')\n",
    "feats=['Genres','Actors','Keywords','Name','Director','DescriptionLemma']\n"
   ]
  },
  {
   "cell_type": "code",
   "execution_count": 81,
   "metadata": {},
   "outputs": [
    {
     "data": {
      "text/plain": [
       "0        Documentary nature documentary mountain desert...\n",
       "1        Comedy based on board game based on board game...\n",
       "2        Action Drama History War airborne troops ameri...\n",
       "3        Documentary animal life earth tv mini series n...\n",
       "4        Adventure Drama Family Mystery Sci-Fi gallifre...\n",
       "                               ...                        \n",
       "48472    Comedy Horror Mystery Thriller slasher slasher...\n",
       "48473    Music concert surrealism rock music band perfo...\n",
       "48474    Comedy Horror school school school school scho...\n",
       "48475    Comedy remake remake remake remake remake rema...\n",
       "48476    Action Drama running running running running r...\n",
       "Name: Genres, Length: 48477, dtype: object"
      ]
     },
     "execution_count": 81,
     "metadata": {},
     "output_type": "execute_result"
    }
   ],
   "source": [
    "combined_feats=''\n",
    "combined_feats+=md['Genres'].apply(lambda x:' '.join(i for i in x)+' ')\n",
    "combined_feats+=md['Keywords'].apply(lambda x:' '.join(i for i in x)+' ')*6\n",
    "# combined_feats+=md['Genres'].apply(lambda x:' '.join(i.replace(' ','') for i in x)+' ')*2\n",
    "# combined_feats+=md['Keywords'].apply(lambda x:' '.join(i.replace(' ','') for i in x)+' ')*4\n",
    "combined_feats+=md['Actors'].apply(lambda x:' '.join(i.replace(' ','') for i in x)+' ')\n",
    "combined_feats+=md['Name'].apply(lambda x:x.replace(' ','')+' ')*2\n",
    "combined_feats+=md['Director'].apply(lambda x:x.replace(' ','')+' ')*2\n",
    "combined_feats+=(md['DescriptionLemma']+' ')*8\n",
    "combined_feats\n"
   ]
  },
  {
   "cell_type": "code",
   "execution_count": 82,
   "metadata": {},
   "outputs": [],
   "source": [
    "combined_vector = TfidfVectorizer(\n",
    "    analyzer=\"word\",\n",
    "    stop_words=\"english\",\n",
    "    strip_accents=\"unicode\",\n",
    "    dtype=np.float32,\n",
    ").fit_transform(combined_feats)\n"
   ]
  },
  {
   "cell_type": "code",
   "execution_count": 83,
   "metadata": {},
   "outputs": [
    {
     "data": {
      "text/plain": [
       "<48477x48477 sparse matrix of type '<class 'numpy.float32'>'\n",
       "\twith 1018017 stored elements in Compressed Sparse Row format>"
      ]
     },
     "execution_count": 83,
     "metadata": {},
     "output_type": "execute_result"
    }
   ],
   "source": [
    "combined_sim=cstk(combined_vector, top_k=21)\n",
    "combined_sim\n"
   ]
  },
  {
   "cell_type": "code",
   "execution_count": 84,
   "metadata": {},
   "outputs": [],
   "source": [
    "indices = {title:[idx,poster] for  title,idx,poster in zip(md[\"Name\"],md.index,md['Poster'])}\n",
    "\n",
    "def get_recommendations(title, combined_sim=combined_sim):\n",
    "    idx = indices[title][0]\n",
    "    cs = combined_sim[idx]\n",
    "    sorted_data = sorted(zip(cs.data, cs.indices), key=lambda x: x[0], reverse=True)[1:]\n",
    "    ans_data = [i[1] for i in sorted_data]\n",
    "    return md[\"Name\"][ans_data]\n"
   ]
  },
  {
   "cell_type": "code",
   "execution_count": 85,
   "metadata": {},
   "outputs": [
    {
     "data": {
      "text/plain": [
       "1620               Batman: The Dark Knight Returns, Part 1\n",
       "775                                          Batman Begins\n",
       "31170    Lego DC Comics Superheroes: Justice League - G...\n",
       "29802                                  Batman vs. Two-Face\n",
       "1870                                         Batman Beyond\n",
       "22716                                       Miyori no mori\n",
       "6703                                      Batman: Year One\n",
       "42837                                         Jungle Woman\n",
       "393                Batman: The Dark Knight Returns, Part 2\n",
       "366                                  The Dark Knight Rises\n",
       "5358                                                Batman\n",
       "13269                                       Batman Returns\n",
       "37216                                Behind the Rising Sun\n",
       "2028                                                Elijah\n",
       "17152                                Batman: Gotham Knight\n",
       "2802                    Batman Beyond: Return of the Joker\n",
       "22010                  Lego DC Comics: Batman Be-Leaguered\n",
       "14802                                           Tokyo.Sora\n",
       "2773                          Batman: Mask of the Phantasm\n",
       "4932                                  Batman: Strange Days\n",
       "Name: Name, dtype: object"
      ]
     },
     "execution_count": 85,
     "metadata": {},
     "output_type": "execute_result"
    }
   ],
   "source": [
    "def closest_match(title):\n",
    "    return difflib.get_close_matches(title, indices.keys(), n=1)[0]\n",
    "\n",
    "get_recommendations(closest_match('batman'))\n"
   ]
  },
  {
   "cell_type": "code",
   "execution_count": 86,
   "metadata": {},
   "outputs": [
    {
     "data": {
      "text/html": [
       "<div>\n",
       "<style scoped>\n",
       "    .dataframe tbody tr th:only-of-type {\n",
       "        vertical-align: middle;\n",
       "    }\n",
       "\n",
       "    .dataframe tbody tr th {\n",
       "        vertical-align: top;\n",
       "    }\n",
       "\n",
       "    .dataframe thead th {\n",
       "        text-align: right;\n",
       "    }\n",
       "</style>\n",
       "<table border=\"1\" class=\"dataframe\">\n",
       "  <thead>\n",
       "    <tr style=\"text-align: right;\">\n",
       "      <th></th>\n",
       "      <th>url</th>\n",
       "      <th>Name</th>\n",
       "      <th>Poster</th>\n",
       "      <th>Genres</th>\n",
       "      <th>Actors</th>\n",
       "      <th>Director</th>\n",
       "      <th>Description</th>\n",
       "      <th>DatePublished</th>\n",
       "      <th>Keywords</th>\n",
       "      <th>RatingCount</th>\n",
       "      <th>RatingValue</th>\n",
       "      <th>ReviewAuthor</th>\n",
       "      <th>ReviewDate</th>\n",
       "      <th>ReviewBody</th>\n",
       "      <th>DescriptionLemma</th>\n",
       "      <th>votewt</th>\n",
       "    </tr>\n",
       "  </thead>\n",
       "  <tbody>\n",
       "    <tr>\n",
       "      <th>0</th>\n",
       "      <td>https://www.imdb.com/title/tt5491994/</td>\n",
       "      <td>Planet Earth II</td>\n",
       "      <td>https://m.media-amazon.com/images/M/MV5BZWYxOD...</td>\n",
       "      <td>[Documentary]</td>\n",
       "      <td>[David Attenborough]</td>\n",
       "      <td></td>\n",
       "      <td>Planet Earth II is a TV mini-series starring D...</td>\n",
       "      <td>2016-11-06</td>\n",
       "      <td>[nature documentary, mountain, desert, island,...</td>\n",
       "      <td>95049</td>\n",
       "      <td>9.5</td>\n",
       "      <td>NeilBarnett</td>\n",
       "      <td>2016-11-14</td>\n",
       "      <td>This is without doubt the best thing I have se...</td>\n",
       "      <td>Planet Earth II be a tv mini - series star Dav...</td>\n",
       "      <td>9.499966</td>\n",
       "    </tr>\n",
       "    <tr>\n",
       "      <th>1</th>\n",
       "      <td>https://www.imdb.com/title/tt6290024/</td>\n",
       "      <td>Uno: The Movie</td>\n",
       "      <td>https://m.media-amazon.com/images/M/MV5BN2YyNm...</td>\n",
       "      <td>[Comedy]</td>\n",
       "      <td>[Geoff Ramsey, Gavin Free, Ryan Haywood, Jerem...</td>\n",
       "      <td></td>\n",
       "      <td>Uno: The Movie is a video starring Geoff Ramse...</td>\n",
       "      <td>2016-11-30</td>\n",
       "      <td>[based on board game]</td>\n",
       "      <td>10099</td>\n",
       "      <td>9.5</td>\n",
       "      <td>sorrowscythe</td>\n",
       "      <td>2016-12-03</td>\n",
       "      <td>When I heard about this I thought it will be t...</td>\n",
       "      <td>uno : the Movie be a video star Geoff Ramsey ,...</td>\n",
       "      <td>9.499685</td>\n",
       "    </tr>\n",
       "  </tbody>\n",
       "</table>\n",
       "</div>"
      ],
      "text/plain": [
       "                                     url             Name  \\\n",
       "0  https://www.imdb.com/title/tt5491994/  Planet Earth II   \n",
       "1  https://www.imdb.com/title/tt6290024/   Uno: The Movie   \n",
       "\n",
       "                                              Poster         Genres  \\\n",
       "0  https://m.media-amazon.com/images/M/MV5BZWYxOD...  [Documentary]   \n",
       "1  https://m.media-amazon.com/images/M/MV5BN2YyNm...       [Comedy]   \n",
       "\n",
       "                                              Actors Director  \\\n",
       "0                               [David Attenborough]            \n",
       "1  [Geoff Ramsey, Gavin Free, Ryan Haywood, Jerem...            \n",
       "\n",
       "                                         Description DatePublished  \\\n",
       "0  Planet Earth II is a TV mini-series starring D...    2016-11-06   \n",
       "1  Uno: The Movie is a video starring Geoff Ramse...    2016-11-30   \n",
       "\n",
       "                                            Keywords  RatingCount  \\\n",
       "0  [nature documentary, mountain, desert, island,...        95049   \n",
       "1                              [based on board game]        10099   \n",
       "\n",
       "   RatingValue  ReviewAuthor  ReviewDate  \\\n",
       "0          9.5   NeilBarnett  2016-11-14   \n",
       "1          9.5  sorrowscythe  2016-12-03   \n",
       "\n",
       "                                          ReviewBody  \\\n",
       "0  This is without doubt the best thing I have se...   \n",
       "1  When I heard about this I thought it will be t...   \n",
       "\n",
       "                                    DescriptionLemma    votewt  \n",
       "0  Planet Earth II be a tv mini - series star Dav...  9.499966  \n",
       "1  uno : the Movie be a video star Geoff Ramsey ,...  9.499685  "
      ]
     },
     "execution_count": 86,
     "metadata": {},
     "output_type": "execute_result"
    }
   ],
   "source": [
    "md.head(2)\n"
   ]
  },
  {
   "cell_type": "code",
   "execution_count": 87,
   "metadata": {},
   "outputs": [
    {
     "data": {
      "text/plain": [
       "{'Documentary': 4637,\n",
       " 'Comedy': 16033,\n",
       " 'Action': 6993,\n",
       " 'Drama': 24837,\n",
       " 'History': 2175,\n",
       " 'War': 2160,\n",
       " 'Adventure': 4974,\n",
       " 'Family': 3753,\n",
       " 'Mystery': 3850,\n",
       " 'Sci-Fi': 3781,\n",
       " 'Music': 1804,\n",
       " 'Crime': 6734,\n",
       " 'Thriller': 9421,\n",
       " 'Sport': 1133,\n",
       " 'Musical': 1463,\n",
       " 'Animation': 2501,\n",
       " 'Fantasy': 3765,\n",
       " 'Biography': 2476,\n",
       " 'Horror': 5384,\n",
       " 'Romance': 9091,\n",
       " 'Western': 1178,\n",
       " 'News': 167,\n",
       " 'Short': 1942,\n",
       " 'Film-Noir': 495}"
      ]
     },
     "execution_count": 87,
     "metadata": {},
     "output_type": "execute_result"
    }
   ],
   "source": [
    "genre_counts = Counter([genre for genres_list in md['Genres'] for genre in genres_list if genre!=''])\n",
    "genre_counts={genre: count for genre, count in genre_counts.items() if count >= 100}\n",
    "genre_counts\n"
   ]
  },
  {
   "cell_type": "code",
   "execution_count": 88,
   "metadata": {},
   "outputs": [],
   "source": [
    "\n",
    "def get_genre_movies(genre):\n",
    "    if genre=='All':\n",
    "        return md[['Name','votewt']]\n",
    "    return md[md['genres'].astype('str').str.contains(genre)][['Name','votewt']]\n"
   ]
  },
  {
   "cell_type": "code",
   "execution_count": 38,
   "metadata": {},
   "outputs": [
    {
     "name": "stdout",
     "output_type": "stream",
     "text": [
      "https://m.media-amazon.com/images/M/MV5BZWYxODViMGYtMGE2ZC00ZGQ3LThhMWUtYTVkNGE3OWU4NWRkL2ltYWdlL2ltYWdlXkEyXkFqcGdeQXVyMjYwNDA2MDE@._V1_.jpg\n"
     ]
    }
   ],
   "source": [
    "x=list(md[['Name','Poster']].iterrows())\n",
    "print(x[0][1]['Poster'])\n"
   ]
  }
 ],
 "metadata": {
  "kernelspec": {
   "display_name": "Python 3",
   "language": "python",
   "name": "python3"
  },
  "language_info": {
   "codemirror_mode": {
    "name": "ipython",
    "version": 3
   },
   "file_extension": ".py",
   "mimetype": "text/x-python",
   "name": "python",
   "nbconvert_exporter": "python",
   "pygments_lexer": "ipython3",
   "version": "3.11.6"
  }
 },
 "nbformat": 4,
 "nbformat_minor": 2
}
