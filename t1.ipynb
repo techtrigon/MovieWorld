{
 "cells": [
  {
   "cell_type": "code",
   "execution_count": null,
   "metadata": {},
   "outputs": [],
   "source": [
    "import pandas as pd\n",
    "\n",
    "df = pd.DataFrame({\"A\": [1, 2], \"B\": [3, 4]})\n",
    "\n",
    "p = df.itertuples()\n",
    "for i in p:\n",
    "    print(type(i))\n"
   ]
  },
  {
   "cell_type": "code",
   "execution_count": 63,
   "metadata": {},
   "outputs": [
    {
     "data": {
      "text/plain": [
       "Index(['url', 'Name', 'Poster', 'Genres', 'Actors', 'Director', 'Description',\n",
       "       'DatePublished', 'Keywords', 'RatingCount', 'RatingValue',\n",
       "       'ReviewAuthor', 'ReviewDate', 'ReviewBody', 'DescriptionLemma',\n",
       "       'votewt'],\n",
       "      dtype='object')"
      ]
     },
     "execution_count": 63,
     "metadata": {},
     "output_type": "execute_result"
    }
   ],
   "source": [
    "md = pd.read_feather(\"./movies_final.feather\")\n",
    "md.columns\n"
   ]
  },
  {
   "cell_type": "code",
   "execution_count": 68,
   "metadata": {},
   "outputs": [
    {
     "data": {
      "text/plain": [
       "'Planet Earth II'"
      ]
     },
     "execution_count": 68,
     "metadata": {},
     "output_type": "execute_result"
    }
   ],
   "source": [
    "def get_genre_movies(genre):\n",
    "    if genre == \"All\":\n",
    "        return tuple(\n",
    "            md[[\"Name\", \"votewt\"]].itertuples(\n",
    "                index=False,\n",
    "            )\n",
    "        )\n",
    "        # return md[[\"Name\", \"votewt\"]].itertuples(index=False, name=None)\n",
    "    return tuple(\n",
    "        md[md[\"Genres\"].apply(lambda x: genre in x)][[\"Name\", \"votewt\"]].iterrows()\n",
    "    )\n",
    "    # return md[md[\"Genres\"].astype(\"str\").str.contains(genre)][\n",
    "    #     [\"Name\", \"votewt\"]\n",
    "    # ].itertuples(index=False, name=None)\n",
    "\n",
    "\n",
    "x = get_genre_movies(\"All\")\n",
    "x[0].Name\n"
   ]
  },
  {
   "cell_type": "code",
   "execution_count": 59,
   "metadata": {},
   "outputs": [],
   "source": [
    "from pathlib import Path\n",
    "import pandas as pd, numpy as np, joblib\n",
    "from sklearn.feature_extraction.text import (\n",
    "    TfidfVectorizer,\n",
    "    HashingVectorizer,\n",
    ")\n",
    "from collections import Counter\n",
    "import chunkdot.cosine_similarity_top_k as cstk\n",
    "\n",
    "# New Preprocessed Dataset\n",
    "md = pd.read_feather(\"./movies_final.feather\")\n",
    "\n",
    "feats = [\"Genres\", \"Actors\", \"Keywords\", \"Name\", \"Director\", \"DescriptionLemma\"]\n",
    "\n",
    "combined_feats = \"\"\n",
    "combined_feats += md[\"Genres\"].apply(lambda x: \" \".join(i for i in x) + \" \") * 2\n",
    "combined_feats += md[\"Keywords\"].apply(lambda x: \" \".join(i for i in x) + \" \") * 4\n",
    "combined_feats += md[\"Actors\"].apply(\n",
    "    lambda x: \" \".join(i.replace(\" \", \"\") for i in x) + \" \"\n",
    ")\n",
    "combined_feats += md[\"Name\"].apply(lambda x: x.replace(\" \", \"\") + \" \") * 2\n",
    "combined_feats += md[\"Director\"].apply(lambda x: x.replace(\" \", \"\") + \" \") * 2\n",
    "combined_feats += (md[\"DescriptionLemma\"] + \" \") * 7\n",
    "# combined_feats+=md['Genres'].apply(lambda x:' '.join(i.replace(' ','') for i in x)+' ')*2\n",
    "# combined_feats+=md['Keywords'].apply(lambda x:' '.join(i.replace(' ','') for i in x)+' ')*4\n"
   ]
  }
 ],
 "metadata": {
  "kernelspec": {
   "display_name": "Python 3",
   "language": "python",
   "name": "python3"
  },
  "language_info": {
   "codemirror_mode": {
    "name": "ipython",
    "version": 3
   },
   "file_extension": ".py",
   "mimetype": "text/x-python",
   "name": "python",
   "nbconvert_exporter": "python",
   "pygments_lexer": "ipython3",
   "version": "3.11.6"
  }
 },
 "nbformat": 4,
 "nbformat_minor": 2
}
